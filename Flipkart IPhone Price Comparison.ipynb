{
 "cells": [
  {
   "cell_type": "code",
   "execution_count": 1,
   "metadata": {},
   "outputs": [],
   "source": [
    "import requests\n",
    "from bs4 import BeautifulSoup as bs\n",
    "from urllib.request import urlopen as uReq\n"
   ]
  },
  {
   "cell_type": "code",
   "execution_count": 2,
   "metadata": {},
   "outputs": [],
   "source": [
    "searchString='iphone'"
   ]
  },
  {
   "cell_type": "code",
   "execution_count": 3,
   "metadata": {},
   "outputs": [
    {
     "name": "stdout",
     "output_type": "stream",
     "text": [
      "https://www.flipkart.com/search?q=iphone\n"
     ]
    }
   ],
   "source": [
    "flipkart_url = \"https://www.flipkart.com/search?q=\" + searchString\n",
    "print(flipkart_url)\n",
    "uClient = uReq(flipkart_url)\n",
    "flipkartPage = uClient.read()\n",
    "uClient.close()\n"
   ]
  },
  {
   "cell_type": "code",
   "execution_count": 4,
   "metadata": {},
   "outputs": [],
   "source": [
    "flipkart_html = bs(flipkartPage, \"html.parser\")\n",
    "bigboxes = flipkart_html.find_all(\"div\", {\"class\": \"bhgxx2 col-12-12\"})\n",
    "del bigboxes[0:2]\n",
    "\n"
   ]
  },
  {
   "cell_type": "code",
   "execution_count": 5,
   "metadata": {},
   "outputs": [
    {
     "data": {
      "text/plain": [
       "14"
      ]
     },
     "execution_count": 5,
     "metadata": {},
     "output_type": "execute_result"
    }
   ],
   "source": [
    "len(bigboxes)"
   ]
  },
  {
   "cell_type": "code",
   "execution_count": 6,
   "metadata": {},
   "outputs": [
    {
     "data": {
      "text/plain": [
       "'https://www.flipkart.com/apple-iphone-11-white-128-gb/p/itm846a8ba21ab11?pid=MOBFKCTS4MZVJ6FJ&lid=LSTMOBFKCTS4MZVJ6FJPY4SUX&marketplace=FLIPKART&srno=s_1_1&otracker=search&fm=organic&iid=d1fe4229-382e-4e21-90c9-6d6d309935b0.MOBFKCTS4MZVJ6FJ.SEARCH&ssid=z3wzsrqwww0000001588604099680&qH=0b3f45b266a97d70'"
      ]
     },
     "execution_count": 6,
     "metadata": {},
     "output_type": "execute_result"
    }
   ],
   "source": [
    "productLink = \"https://www.flipkart.com\" + bigboxes[0].div.div.a['href']\n",
    "productLink"
   ]
  },
  {
   "cell_type": "code",
   "execution_count": 7,
   "metadata": {},
   "outputs": [],
   "source": [
    "prodRes = requests.get(productLink)\n",
    "prod_html = bs(prodRes.text, \"html.parser\")\n",
    "\n",
    "cost = prod_html.find_all('div', {'class': \"_1vC4OE _3qQ9m1\"})"
   ]
  },
  {
   "cell_type": "code",
   "execution_count": 8,
   "metadata": {},
   "outputs": [
    {
     "data": {
      "text/plain": [
       "'₹73,600'"
      ]
     },
     "execution_count": 8,
     "metadata": {},
     "output_type": "execute_result"
    }
   ],
   "source": [
    "cost[0].text"
   ]
  },
  {
   "cell_type": "code",
   "execution_count": 9,
   "metadata": {},
   "outputs": [],
   "source": [
    "names=prod_html.find_all('span',{\"class\":\"_35KyD6\"})"
   ]
  },
  {
   "cell_type": "code",
   "execution_count": 10,
   "metadata": {},
   "outputs": [
    {
     "data": {
      "text/plain": [
       "'Apple iPhone 11 (White, 128 GB)'"
      ]
     },
     "execution_count": 10,
     "metadata": {},
     "output_type": "execute_result"
    }
   ],
   "source": [
    "names[0].text"
   ]
  },
  {
   "cell_type": "code",
   "execution_count": 11,
   "metadata": {},
   "outputs": [],
   "source": [
    "def price(i):\n",
    "    productLink = \"https://www.flipkart.com\" + bigboxes[i].div.div.a['href']\n",
    "    prodRes = requests.get(productLink)\n",
    "    prod_html = bs(prodRes.text, \"html.parser\")\n",
    "    prices = prod_html.find_all('div', {'class': \"_1vC4OE _3qQ9m1\"})\n",
    "    #names=prod_html.find_all('span',{\"class\":\"_35KyD6\"})\n",
    "    return prices[0].text\n",
    "    "
   ]
  },
  {
   "cell_type": "code",
   "execution_count": 12,
   "metadata": {},
   "outputs": [
    {
     "data": {
      "text/plain": [
       "'₹36,999'"
      ]
     },
     "execution_count": 12,
     "metadata": {},
     "output_type": "execute_result"
    }
   ],
   "source": [
    "price(1)"
   ]
  },
  {
   "cell_type": "code",
   "execution_count": 13,
   "metadata": {},
   "outputs": [],
   "source": [
    "Flipkart_prices=[]\n",
    "for i in range(10):\n",
    "    prices=price(i)\n",
    "    Flipkart_prices.append(prices)"
   ]
  },
  {
   "cell_type": "code",
   "execution_count": 14,
   "metadata": {},
   "outputs": [],
   "source": [
    "def product_name(i):\n",
    "    productLink = \"https://www.flipkart.com\" + bigboxes[i].div.div.a['href']\n",
    "    prodRes = requests.get(productLink)\n",
    "    prod_html = bs(prodRes.text, \"html.parser\")\n",
    "    names=prod_html.find_all('span',{\"class\":\"_35KyD6\"})\n",
    "    return names[0].text\n",
    "    \n",
    "    "
   ]
  },
  {
   "cell_type": "code",
   "execution_count": 15,
   "metadata": {},
   "outputs": [],
   "source": [
    "Mobile_name=[]\n",
    "for i in range(10):\n",
    "    names=product_name(i)\n",
    "    Mobile_name.append(names)"
   ]
  },
  {
   "cell_type": "code",
   "execution_count": 16,
   "metadata": {},
   "outputs": [],
   "source": [
    "import pandas as pd"
   ]
  },
  {
   "cell_type": "code",
   "execution_count": 17,
   "metadata": {},
   "outputs": [
    {
     "data": {
      "text/html": [
       "<div>\n",
       "<style scoped>\n",
       "    .dataframe tbody tr th:only-of-type {\n",
       "        vertical-align: middle;\n",
       "    }\n",
       "\n",
       "    .dataframe tbody tr th {\n",
       "        vertical-align: top;\n",
       "    }\n",
       "\n",
       "    .dataframe thead th {\n",
       "        text-align: right;\n",
       "    }\n",
       "</style>\n",
       "<table border=\"1\" class=\"dataframe\">\n",
       "  <thead>\n",
       "    <tr style=\"text-align: right;\">\n",
       "      <th></th>\n",
       "      <th>Mobile_name</th>\n",
       "      <th>Flipkart_price</th>\n",
       "    </tr>\n",
       "  </thead>\n",
       "  <tbody>\n",
       "    <tr>\n",
       "      <th>0</th>\n",
       "      <td>Apple iPhone 11 (White, 128 GB)</td>\n",
       "      <td>₹73,600</td>\n",
       "    </tr>\n",
       "    <tr>\n",
       "      <th>1</th>\n",
       "      <td>Apple iPhone 7 Plus (Black, 32 GB)</td>\n",
       "      <td>₹36,999</td>\n",
       "    </tr>\n",
       "    <tr>\n",
       "      <th>2</th>\n",
       "      <td>Apple iPhone 11 (Black, 128 GB)</td>\n",
       "      <td>₹73,600</td>\n",
       "    </tr>\n",
       "    <tr>\n",
       "      <th>3</th>\n",
       "      <td>Marshland Tempered Glass Guard for Apple iPhon...</td>\n",
       "      <td>₹389</td>\n",
       "    </tr>\n",
       "    <tr>\n",
       "      <th>4</th>\n",
       "      <td>Apple iPhone XS (Space Grey, 64 GB)</td>\n",
       "      <td>₹62,999</td>\n",
       "    </tr>\n",
       "    <tr>\n",
       "      <th>5</th>\n",
       "      <td>Apple iPhone 11 (Red, 64 GB)</td>\n",
       "      <td>₹68,300</td>\n",
       "    </tr>\n",
       "    <tr>\n",
       "      <th>6</th>\n",
       "      <td>Apple iPhone 11 (Red, 128 GB)</td>\n",
       "      <td>₹73,600</td>\n",
       "    </tr>\n",
       "    <tr>\n",
       "      <th>7</th>\n",
       "      <td>Apple iPhone XR ((PRODUCT)RED, 64 GB)</td>\n",
       "      <td>₹52,500</td>\n",
       "    </tr>\n",
       "    <tr>\n",
       "      <th>8</th>\n",
       "      <td>Apple iPhone XR (Blue, 128 GB)</td>\n",
       "      <td>₹61,899</td>\n",
       "    </tr>\n",
       "    <tr>\n",
       "      <th>9</th>\n",
       "      <td>Apple iPhone XS Max (Space Grey, 512 GB)</td>\n",
       "      <td>₹1,19,900</td>\n",
       "    </tr>\n",
       "  </tbody>\n",
       "</table>\n",
       "</div>"
      ],
      "text/plain": [
       "                                         Mobile_name Flipkart_price\n",
       "0                    Apple iPhone 11 (White, 128 GB)        ₹73,600\n",
       "1                 Apple iPhone 7 Plus (Black, 32 GB)        ₹36,999\n",
       "2                    Apple iPhone 11 (Black, 128 GB)        ₹73,600\n",
       "3  Marshland Tempered Glass Guard for Apple iPhon...           ₹389\n",
       "4                Apple iPhone XS (Space Grey, 64 GB)        ₹62,999\n",
       "5                       Apple iPhone 11 (Red, 64 GB)        ₹68,300\n",
       "6                      Apple iPhone 11 (Red, 128 GB)        ₹73,600\n",
       "7              Apple iPhone XR ((PRODUCT)RED, 64 GB)        ₹52,500\n",
       "8                     Apple iPhone XR (Blue, 128 GB)        ₹61,899\n",
       "9           Apple iPhone XS Max (Space Grey, 512 GB)      ₹1,19,900"
      ]
     },
     "execution_count": 17,
     "metadata": {},
     "output_type": "execute_result"
    }
   ],
   "source": [
    "df = pd.DataFrame(list(zip(Mobile_name, Flipkart_prices)), \n",
    "               columns =['Mobile_name', 'Flipkart_price']) \n",
    "df"
   ]
  }
 ],
 "metadata": {
  "kernelspec": {
   "display_name": "Python 3",
   "language": "python",
   "name": "python3"
  },
  "language_info": {
   "codemirror_mode": {
    "name": "ipython",
    "version": 3
   },
   "file_extension": ".py",
   "mimetype": "text/x-python",
   "name": "python",
   "nbconvert_exporter": "python",
   "pygments_lexer": "ipython3",
   "version": "3.6.8"
  }
 },
 "nbformat": 4,
 "nbformat_minor": 2
}
